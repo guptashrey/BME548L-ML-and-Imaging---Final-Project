{
 "cells": [
  {
   "cell_type": "code",
   "execution_count": 1,
   "id": "b5a395f0-13be-49e9-b2a2-3b04655cc98f",
   "metadata": {},
   "outputs": [],
   "source": [
    "import glob\n",
    "import os\n",
    "import albumentations as albu\n",
    "import cv2\n",
    "from PIL import Image\n",
    "import numpy as np\n",
    "import matplotlib.pyplot as plt\n",
    "import matplotlib.image as img\n",
    "import json\n",
    "import argparse\n",
    "import numpy as np\n",
    "from tqdm import tqdm"
   ]
  },
  {
   "cell_type": "code",
   "execution_count": 2,
   "id": "f4af1f28-9170-43c5-ab2e-ddfb2494f993",
   "metadata": {},
   "outputs": [],
   "source": [
    "inf = {\n",
    "    \"description\": \"SegPC ISBI Cell Segmentation Challenge\",\n",
    "    \"url\": \"https://segpc-2021.grand-challenge.org/SegPC-2021/\",\n",
    "    \"year\": 2021,\n",
    "    \"date_created\": \"6th Feb,2021\",\n",
    "}"
   ]
  },
  {
   "cell_type": "code",
   "execution_count": 3,
   "id": "fd394676-7d70-4cb1-9af8-2e7ae3e0af5c",
   "metadata": {},
   "outputs": [],
   "source": [
    "categories = [\n",
    "    {\"supercategory\": \"cell_st\",\"id\": 1,\"name\": \"cell\"},\n",
    "]"
   ]
  },
  {
   "cell_type": "code",
   "execution_count": 4,
   "id": "05132074-b1c3-4bfa-8bd5-cd3cc2a27994",
   "metadata": {},
   "outputs": [],
   "source": [
    "img_root = \"../TCIA_SegPC_dataset/validation/x/\"\n",
    "mask_root = \"../TCIA_SegPC_dataset/validation/y/\"\n",
    "dest_root = \"../TCIA_SegPC_dataset/coco_val/\"\n",
    "names = os.listdir(img_root)"
   ]
  },
  {
   "cell_type": "code",
   "execution_count": 5,
   "id": "a779a64d-6efa-4123-9127-8c7c64aec3ad",
   "metadata": {},
   "outputs": [],
   "source": [
    "os.makedirs(dest_root, exist_ok=True)\n",
    "os.makedirs(dest_root+'x', exist_ok=True)\n",
    "os.makedirs(dest_root+'instance_y', exist_ok=True)\n",
    "os.makedirs(dest_root+'semantic_y', exist_ok=True)\n",
    "\n",
    "images = []\n",
    "annos = []\n",
    "res_size=(1080,1440)\n",
    "\n",
    "var= 1"
   ]
  },
  {
   "cell_type": "code",
   "execution_count": 6,
   "id": "4198ef6d-13c0-4d82-855f-0f3935e7c9b9",
   "metadata": {},
   "outputs": [
    {
     "name": "stderr",
     "output_type": "stream",
     "text": [
      "100%|██████████| 200/200 [05:19<00:00,  1.60s/it]\n"
     ]
    }
   ],
   "source": [
    "for name in tqdm(names):\n",
    "    #print(var)\n",
    "    var+=1\n",
    "    #print(name)\n",
    "    image = np.array(Image.open(img_root+name))\n",
    "\n",
    "    image= cv2.resize(image, res_size[::-1],interpolation=cv2.INTER_NEAREST)\n",
    "    new_im = Image.fromarray(image)\n",
    "    new_im.save(dest_root+'x/'+name)\n",
    "    # print(image.shape)\n",
    "\n",
    "    h,w,_ = image.shape\n",
    "    index = name[:-4]\n",
    "\n",
    "    img_info = {}\n",
    "    img_info['file_name'] = name\n",
    "    img_info['height'] = h\n",
    "    img_info['width'] = w\n",
    "    img_info['id'] = int(index)\n",
    "    images.append(img_info)\n",
    "\n",
    "    semantic_mask = np.zeros(res_size)\n",
    "\n",
    "    mask_list = glob.glob(mask_root+index+\"_*\")\n",
    "    count = 0\n",
    "    for mask_name in mask_list: \n",
    "        count+=1\n",
    "        ann = {}\n",
    "        mask = cv2.imread(mask_name, 0)\n",
    "        mask= cv2.resize(mask, res_size[::-1], interpolation=cv2.INTER_NEAREST)\n",
    "\n",
    "        semantic_mask = np.maximum(semantic_mask,mask)\n",
    "\n",
    "        # print(np.unique(mask))\n",
    "        mask_id = mask_name.split('/')[-1][:-4]\n",
    "        img.imsave(dest_root+'instance_y/'+mask_id+'.bmp', mask)\n",
    "\n",
    "        bin_mask = np.zeros(mask.shape)\n",
    "        bin_mask[mask>0] = 1\n",
    "\n",
    "        res = cv2.findContours(mask.copy(), cv2.RETR_EXTERNAL, cv2.CHAIN_APPROX_NONE)\n",
    "\n",
    "        # ann = create_sub_mask_annotation(sub_mask = bin_mask, image_id = index, category_id=1, annotation_id = mask_id , is_crowd = 0)\n",
    "\n",
    "        ann['id'] = mask_id\n",
    "        ann['image_id'] = int(index)\n",
    "        ann['segmentation'] = []\n",
    "\n",
    "\n",
    "        # yy, xx = np.where(bin_mask)\n",
    "\n",
    "\n",
    "        # seg = np.c_[xx,yy].ravel()\n",
    "        # seg = seg.astype('float64')\n",
    "        # ann['segmentation'].append(seg.tolist())\n",
    "\n",
    "\n",
    "        # min_x, max_x, min_y, max_y = min(xx), max(xx), min(yy), max(yy)\n",
    "\n",
    "        #print(mask_name, res[0][0].shape, len(res[0]))\n",
    "        a = res[0][0]\n",
    "        mx = 0\n",
    "        for i in res[0]:\n",
    "            if i.shape[0]>mx:\n",
    "                mx = i.shape[0]\n",
    "                a = i\n",
    "        ann['area'] =  cv2.contourArea(a)\n",
    "        #print(ann['area'])\n",
    "        a = a.squeeze()\n",
    "        #print(a.shape)\n",
    "        max_x, max_y = np.max(a, axis =0)\n",
    "        min_x, min_y = np.min(a, axis =0)\n",
    "        seg = a.ravel()\n",
    "        seg = seg.astype('float64')\n",
    "        ann['segmentation'].append(seg.tolist())\n",
    "\n",
    "        ann[\"bbox\"] =  [float(min_x-0.5), float(min_y-0.5), float(max_x-min_x+1), float(max_y-min_y+1)]\n",
    "\n",
    "        ann[\"iscrowd\"]= 0\n",
    "        ann[\"category_id\"] = 1\n",
    "\n",
    "        annos.append(ann)\n",
    "    \n",
    "    semantic_mask = (semantic_mask>0)*255\n",
    "    cv2.imwrite(dest_root+'semantic_y/'+name,semantic_mask)\n",
    "\n",
    "    #print(count,\"masks read\")"
   ]
  },
  {
   "cell_type": "code",
   "execution_count": 7,
   "id": "4cff8855-674e-4de9-9805-fbc2d895bc1f",
   "metadata": {},
   "outputs": [],
   "source": [
    "dataset = {\n",
    "    \"info\": inf,\n",
    "    \"licenses\": [],\n",
    "    \"images\": images,\n",
    "    \"annotations\": annos,\n",
    "    \"categories\": categories,\n",
    "}\n",
    "\n",
    "\n",
    "with open(dest_root+'COCO.json', 'w') as fp:\n",
    "    json.dump(dataset, fp)"
   ]
  },
  {
   "cell_type": "code",
   "execution_count": 8,
   "id": "66b9b9cb-fdd0-42ec-ad3a-5fbbd3010ace",
   "metadata": {},
   "outputs": [
    {
     "name": "stdout",
     "output_type": "stream",
     "text": [
      "number of images saved:  200\n",
      "number of instances saved:  990\n"
     ]
    }
   ],
   "source": [
    "print(\"number of images saved: \", len(os.listdir(dest_root+'x')))\n",
    "print(\"number of instances saved: \", len(os.listdir(dest_root+'instance_y')))"
   ]
  }
 ],
 "metadata": {
  "kernelspec": {
   "display_name": "bme2",
   "language": "python",
   "name": "bme2"
  },
  "language_info": {
   "codemirror_mode": {
    "name": "ipython",
    "version": 3
   },
   "file_extension": ".py",
   "mimetype": "text/x-python",
   "name": "python",
   "nbconvert_exporter": "python",
   "pygments_lexer": "ipython3",
   "version": "3.8.16"
  }
 },
 "nbformat": 4,
 "nbformat_minor": 5
}
